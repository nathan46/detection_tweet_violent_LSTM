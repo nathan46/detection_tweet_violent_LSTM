{
 "cells": [
  {
   "cell_type": "code",
   "execution_count": 1,
   "metadata": {},
   "outputs": [],
   "source": [
    "import numpy as np\n",
    "from nltk.corpus import stopwords\n",
    "import spacy\n",
    "nlp = spacy.load('fr_core_news_md')\n"
   ]
  },
  {
   "cell_type": "code",
   "execution_count": 28,
   "metadata": {},
   "outputs": [
    {
     "name": "stdout",
     "output_type": "stream",
     "text": [
      "['bravo gars'\n",
      " 'félicitation 2 fois encore mieux jaimerai être maman aussi chanceux fille falloir patience beaucoup chance etpeut être quaprès concert'\n",
      " 'sioniste marcel connard trône train chier noter haut orgueil complexe supériorité rien plus affligeant monde depuis l  invention bêtis']\n",
      "Number of tweet : 104068\n"
     ]
    }
   ],
   "source": [
    "# read data from text files\n",
    "with open('cleanData.csv','r') as f:\n",
    "    tweet = f.read()\n",
    "\n",
    "#mettre minuscule\n",
    "tweet = tweet.lower()\n",
    "\n",
    "punctuation = \"!\\\"#$%&'()*+-./:;<=>?@[\\]^_`{|}~’\"\n",
    "\n",
    "all_tweet = ''.join([c for c in tweet if c not in punctuation])\n",
    "\n",
    "#print(all_tweet[:50])\n",
    "\n",
    "tweet_split = all_tweet.split('\\n') \n",
    "label_split = all_tweet.split('\\n') \n",
    "\n",
    "# separer tweet et label\n",
    "for index,entry in enumerate(tweet_split):\n",
    "    #print(index)\n",
    "    if(index != 0):\n",
    "        x = entry.split(',')\n",
    "        if(len(x) != 1):\n",
    "            tweet_split[index-1] = x[0]\n",
    "            label_split[index-1] = x[1]\n",
    "\n",
    "tweet_split = np.array(tweet_split)   \n",
    "label_split = np.array(label_split)  \n",
    "print (tweet_split[:3])\n",
    "print ('Number of tweet :', len(tweet_split))"
   ]
  },
  {
   "cell_type": "code",
   "execution_count": 29,
   "metadata": {},
   "outputs": [],
   "source": [
    "# shuffle data\n",
    "np.random.seed(354)\n",
    "\n",
    "indices = np.arange(tweet_split.shape[0])\n",
    "np.random.shuffle(indices)\n",
    "\n",
    "tweet_split = tweet_split[indices]\n",
    "label_split = label_split[indices]\n",
    "\n",
    "#reduire taille echantillon\n",
    "tweet_split = tweet_split[:70000]\n",
    "\n",
    "#print (tweet_split[:3])"
   ]
  },
  {
   "cell_type": "code",
   "execution_count": null,
   "metadata": {},
   "outputs": [],
   "source": [
    "      "
   ]
  },
  {
   "cell_type": "code",
   "execution_count": 30,
   "metadata": {},
   "outputs": [],
   "source": [
    "#create index mapping\n",
    "from collections import Counter\n",
    "\n",
    "all_tweet2 = ' '.join(tweet_split)\n",
    "# create a list of words\n",
    "words = all_tweet2.split()\n",
    "\n",
    "# Count all the words using Counter Method\n",
    "count_words = Counter(words)\n",
    "\n",
    "total_words = len(words)\n",
    "sorted_words = count_words.most_common(total_words)\n",
    "\n",
    "#print(sorted_words)\n"
   ]
  },
  {
   "cell_type": "code",
   "execution_count": 31,
   "metadata": {},
   "outputs": [
    {
     "name": "stdout",
     "output_type": "stream",
     "text": [
      "<class 'dict'>\n"
     ]
    }
   ],
   "source": [
    "vocab_to_int = {w:i+1 for i, (w,c) in enumerate(sorted_words)}\n",
    "\n",
    "print (type(vocab_to_int))"
   ]
  },
  {
   "cell_type": "code",
   "execution_count": 32,
   "metadata": {},
   "outputs": [
    {
     "name": "stdout",
     "output_type": "stream",
     "text": [
      "[[573, 10, 8605], [12, 139], [92, 10]]\n"
     ]
    }
   ],
   "source": [
    "tweet_int = []\n",
    "for tweet in tweet_split:\n",
    "    r = [vocab_to_int[w] for w in tweet.split()]\n",
    "    tweet_int.append(r)\n",
    "print (tweet_int[0:3])"
   ]
  },
  {
   "cell_type": "code",
   "execution_count": 33,
   "metadata": {
    "scrolled": false
   },
   "outputs": [
    {
     "name": "stdout",
     "output_type": "stream",
     "text": [
      "0.49868355306145984\n",
      "<class 'numpy.ndarray'>\n"
     ]
    }
   ],
   "source": [
    "#encode label\n",
    "encoded_labels = [1 if label =='1' else 0 for label in label_split]\n",
    "encoded_labels = np.array(encoded_labels)\n",
    "\n",
    "print(sum(encoded_labels)/len(encoded_labels))\n",
    "\n",
    "print(type(encoded_labels))"
   ]
  },
  {
   "cell_type": "code",
   "execution_count": 34,
   "metadata": {},
   "outputs": [
    {
     "data": {
      "image/png": "[encoded data removed]",
      "text/plain": [
       "<Figure size 432x288 with 1 Axes>"
      ]
     },
     "metadata": {
      "needs_background": "light"
     },
     "output_type": "display_data"
    },
    {
     "data": {
      "text/plain": [
       "count    70000.000000\n",
       "mean        10.944543\n",
       "std          8.511726\n",
       "min          0.000000\n",
       "25%          4.000000\n",
       "50%          9.000000\n",
       "75%         16.000000\n",
       "max        267.000000\n",
       "dtype: float64"
      ]
     },
     "execution_count": 34,
     "metadata": {},
     "output_type": "execute_result"
    }
   ],
   "source": [
    "# analyse tweet length\n",
    "import pandas as pd\n",
    "import matplotlib.pyplot as plt\n",
    "%matplotlib inline\n",
    "\n",
    "tweet_len = [len(x) for x in tweet_int]\n",
    "pd.Series(tweet_len).hist()\n",
    "plt.show()\n",
    "\n",
    "pd.Series(tweet_len).describe()"
   ]
  },
  {
   "cell_type": "code",
   "execution_count": 35,
   "metadata": {},
   "outputs": [
    {
     "data": {
      "image/png": "[encoded data removed]",
      "text/plain": [
       "<Figure size 432x288 with 1 Axes>"
      ]
     },
     "metadata": {
      "needs_background": "light"
     },
     "output_type": "display_data"
    }
   ],
   "source": [
    "# remove outliers\n",
    "tweet_int = [ tweet_int[i] for i, l in enumerate(tweet_len) if l>4 and l<15]\n",
    "encoded_labels = [ encoded_labels[i] for i, l in enumerate(tweet_len) if l> 4 and l<15]\n",
    "\n",
    "tweet_len = [len(x) for x in tweet_int]\n",
    "pd.Series(tweet_len).hist()\n",
    "plt.show()\n",
    "\n",
    "pd.Series(tweet_len).describe()\n",
    "\n",
    "for i in tweet_int:\n",
    "    i.reverse()\n",
    "    \n",
    "    "
   ]
  },
  {
   "cell_type": "code",
   "execution_count": 36,
   "metadata": {},
   "outputs": [
    {
     "name": "stdout",
     "output_type": "stream",
     "text": [
      "[[    0     0     0     0     0     0     0     0  1514    22   459     1\n",
      "    122  2541 17376]\n",
      " [    0     0     0     0     0     0     0  1060   224   162    52   557\n",
      "     19 17377     6]\n",
      " [    0     0     0     0     0     0     0     0     0     0    10   721\n",
      "   1114    18  5047]\n",
      " [    0     0     0     0     0     0     0     0     0     0 25593     9\n",
      "     11   341     1]\n",
      " [    0     0     0     0     0 25594   190    17   164    28    17    21\n",
      "     25   181     7]]\n"
     ]
    }
   ],
   "source": [
    "# paddin/trucate the remaining data\n",
    "def pad_features(tweet_int, seq_length):\n",
    "    ''' Return features of tweets_ints, where each tweet is padded with 0's or truncated to the input seq_length.\n",
    "    '''\n",
    "    features = np.zeros((len(tweet_int), seq_length), dtype = int)\n",
    "    \n",
    "    for i, tweet in enumerate(tweet_int):\n",
    "        tweet_len = len(tweet)\n",
    "        \n",
    "        if tweet_len <= seq_length:\n",
    "            zeroes = list(np.zeros(seq_length-tweet_len))\n",
    "            new = zeroes+tweet        \n",
    "            \n",
    "        elif tweet_len > seq_length:\n",
    "            new = tweet[0:seq_length]\n",
    "        \n",
    "        features[i,:] = np.array(new)\n",
    "    \n",
    "    return features\n",
    "\n",
    "features = pad_features(tweet_int,15)\n",
    "print (features[:5,:])"
   ]
  },
  {
   "cell_type": "code",
   "execution_count": 37,
   "metadata": {},
   "outputs": [
    {
     "name": "stdout",
     "output_type": "stream",
     "text": [
      "[[    0     0     0 ...   122  2541 17376]\n",
      " [    0     0     0 ...    19 17377     6]\n",
      " [    0     0     0 ...  1114    18  5047]\n",
      " ...\n",
      " [    0     0     0 ...  7727   304    82]\n",
      " [    0     0     0 ...  5235 21594   848]\n",
      " [    0   818    31 ...   130    27   604]]\n"
     ]
    }
   ],
   "source": [
    "# Training, validation, test datasets \n",
    "len_feat = len(tweet_int)\n",
    "split_frac = 0.8\n",
    "train_x = features[0:int(split_frac*len_feat)]\n",
    "train_y = np.array(encoded_labels[0:int(split_frac*len_feat)])\n",
    "\n",
    "remaining_x = features[int(split_frac*len_feat):]\n",
    "remaining_y = np.array(encoded_labels[int(split_frac*len_feat):])\n",
    "\n",
    "valid_x = remaining_x[0:int(len(remaining_x)*0.5)]\n",
    "valid_y = np.array(remaining_y[0:int(len(remaining_y)*0.5)])\n",
    "\n",
    "test_x = remaining_x[int(len(remaining_x)*0.5):]\n",
    "test_y = np.array(remaining_y[int(len(remaining_y)*0.5):])  \n",
    "\n",
    "print(train_x)"
   ]
  },
  {
   "cell_type": "code",
   "execution_count": 38,
   "metadata": {},
   "outputs": [
    {
     "name": "stdout",
     "output_type": "stream",
     "text": [
      "Sample input size:  torch.Size([50, 15])\n",
      "Sample input: \n",
      " tensor([[    0,     0,     0,     0,     0,     0,     0,     0,     0,   991,\n",
      "            75, 17413,  6063,    31,    33],\n",
      "        [    0,     0,     0,     0,     0,     0,     0,     0,   512,  5064,\n",
      "          2859,  1418,    31,  5063,   442],\n",
      "        [    0,     0,     0,     0,     0,     0,    49, 13578,  1789,  2139,\n",
      "            78,   429,  2277,    38,    30],\n",
      "        [    0,     0,     0,     0,     0,     0,     0,     0,     0, 10640,\n",
      "         11074,  9651,   576,   208,    12],\n",
      "        [    0,     0,  1818,    80,  2485,  1956,   823, 54232,     1,  1667,\n",
      "          3878,   129,    34,  1249,   212],\n",
      "        [    0,     0,     0,     0,     0,     0,     0,     0,  1818,   324,\n",
      "            26,   585,  1005,   678, 33713],\n",
      "        [    0,     0,     0,  2223,   275,  2559,    48,   222,    78,    54,\n",
      "            10,    39,    50,     3,    92],\n",
      "        [    0,     0,     0,     0,     0, 28496, 28495,    11,  1053,     3,\n",
      "           180,     3,   399,   490, 28494],\n",
      "        [    0,     0,     0,     0,     0,   934,   539, 24058,  1239,    12,\n",
      "             8,   176,     6, 19581,  5181],\n",
      "        [    0,     0, 57921, 57920, 12422,   129,     6, 16045,  2454, 57919,\n",
      "           658,   106,   903,    82,    48],\n",
      "        [    0,     0, 14325,  2096,  2096,   795,    55,     6,  1813,  2048,\n",
      "          5977,   286,   309,   156,    33],\n",
      "        [    0,     0,     0,     0,     0,     0,     0,     0,     0,   143,\n",
      "            14,     1,    11,   180,    95],\n",
      "        [    0,     0,     0,     0,     0,     0,     0,   116, 10981,   111,\n",
      "           199,     4,    13,   284,     2],\n",
      "        [    0,     0,     0,     0,   256,   540,     1,  4271,    10,    76,\n",
      "            82,    35,     3,  3063,   329],\n",
      "        [    0,     0,     0,     0,     0,     0,    18,   326,   123,  8873,\n",
      "           252,    12,   670,  6800,   264],\n",
      "        [    0,     0,     0,     0,     0,     0,     0,  7791, 24075,    16,\n",
      "         51240,    71,    53,  3680,     5],\n",
      "        [    0,     0,     0,     0,     0,     0, 40884,  1033,    67,   451,\n",
      "         16294,   315,  3632,     2, 40883],\n",
      "        [    0,     0,     0,     0,  1554,    10,    39,    23,  7261,     3,\n",
      "           728,   103,   108,  5735,  1030],\n",
      "        [    0,     0,     0,     0,     0,     0,     0,     0,     0,   128,\n",
      "         22108,    63,     9,   151,    64],\n",
      "        [    0,     0,     0,     0,     0,     0,     0,     0,  8979,   678,\n",
      "             9,   651,  3583, 21168, 37693],\n",
      "        [    0,   485,    17,   580,  1811,     4,   123,  1055,    36, 22475,\n",
      "            27,    94,   116,  6896,   362],\n",
      "        [    0,     0,     0,     0,     0,     0,     0,     0,   778,   144,\n",
      "            41, 12509,   144,    61,   307],\n",
      "        [    0,     0,     0,     0,  1772,     8,    84,   104,  3382,   387,\n",
      "             2,   560,    19,  4440,  1212],\n",
      "        [    0,     0,     0,     0,     0,     0,     0,   627,  1484,    16,\n",
      "           125,   185,   522,     3,     8],\n",
      "        [    0,     0,     0,     0,     0,     0,     0,     0,     0,     0,\n",
      "         39089,     2,   256, 11750,   318],\n",
      "        [    0,     0,     0,     0,     0,     0,  3423,   500,     6,   110,\n",
      "          2335, 56381,   500, 12259,  1308],\n",
      "        [    0,     0,     0,     0,     0,     0,     0,     0,     0,     0,\n",
      "          1420,    68,   114, 11013,   814],\n",
      "        [    0,     0,     0,     0,    47,  4552, 32437, 10128,  4851,   718,\n",
      "           799,   387,     2,   195,     9],\n",
      "        [    0,     0,     0,     0,     0,     0,     0,     0,     0,     0,\n",
      "          9819,    26,    37,   276,    15],\n",
      "        [    0,     0,     0,     0,     0,     0,   272,   369,     7,  4550,\n",
      "           339,     2,   174,  5710, 12949],\n",
      "        [    0,     0,     0,     0,     0,     0,     0,     0,     0,     0,\n",
      "           144,    10,  3003,   294,   617],\n",
      "        [    0,     0,     0,     0,     0,     0,     0,     0,     0,     0,\n",
      "         50456,    31, 50455, 23937, 50454],\n",
      "        [    0,     0,     0,     0,     0,     0,     0,     0,     0,     0,\n",
      "            68,   217,   709,   285,     9],\n",
      "        [    0,     0,     0,     0,     0,  8138,  9770,   989,     1,   170,\n",
      "           178,  3271,   490,   329,    16],\n",
      "        [    0,     0,     0,     0,     0,     0,     0,     0,     0,     0,\n",
      "          2965,     9,    40,   164, 13354],\n",
      "        [    0,     0,     0,     0,     0,     0,     0,     0,     0,  2350,\n",
      "         36522, 36521,    17,   553,     1],\n",
      "        [    0,     0,     0,     0,     0,     0, 30766,    12,   918,   121,\n",
      "          1367,   547,     1,   184,  1219],\n",
      "        [    0,     0,     0,   139,    56,  4728,  4727,     6,  7033,  2161,\n",
      "           663,   457,     7,  8239,  1425],\n",
      "        [    0,     0,     0,     0,     0,     0,     0,     0,     0,     8,\n",
      "            12,     4,    13,   204,   287],\n",
      "        [    0,     0,     0,     0,     0,     0,  3855,    90,   155,    10,\n",
      "            76,  1363,    54, 18512,    50],\n",
      "        [    0,     0,     0,     0,    26,     2,    60,    29,  5973,   174,\n",
      "            25,  4326,  8647,   253,    96],\n",
      "        [    0,     0,     0,     0,     0,  5456,   886,  1397, 33444,  4217,\n",
      "          6783,    25,     9,   105,     2],\n",
      "        [    0,     0,     0,     0,   206,  7771,   228,     3,  3786,  2282,\n",
      "           216,  4106,  1188,   751,    40],\n",
      "        [    0,     0,     0,     0,     0,     0,     0,     0,     8,  2062,\n",
      "          3816,  5648,    55,    41,     5],\n",
      "        [    0,   385,   363,     4,    27,    31,   187,   236,     7,   165,\n",
      "          8616,  3773,   193,  3246,    44],\n",
      "        [    0,     0,     0,     0, 10182,  1134,   204,    17, 13018,   574,\n",
      "          1210,    30,   727,   460,   229],\n",
      "        [    0,     0,     0, 31990,  1839,  1839, 31989, 31988,    40,    41,\n",
      "           962,    37,  2355, 31987, 31986],\n",
      "        [    0,     0,     0,     0,     0,  1485,    29,   966,     9,    11,\n",
      "          5635,    18,     1,   192,     5],\n",
      "        [    0,     0,     0,     0,     0,     0,     0, 53676,   407,   155,\n",
      "           213,     2,   437,  1024,   778],\n",
      "        [    0,     0,     0,     0,     0,     0,     0,     0,   258,   279,\n",
      "             3,     8,    22,     2,   157]])\n",
      "\n",
      "Sample label size:  torch.Size([50])\n",
      "Sample label: \n",
      " tensor([0, 0, 1, 0, 0, 0, 1, 1, 0, 0, 0, 1, 0, 1, 0, 1, 0, 1, 1, 1, 1, 1, 0, 1,\n",
      "        0, 0, 1, 0, 0, 0, 1, 0, 1, 1, 1, 1, 0, 0, 0, 1, 0, 0, 1, 1, 0, 1, 1, 1,\n",
      "        0, 0])\n"
     ]
    }
   ],
   "source": [
    "# Dataloaders and batching\n",
    "\n",
    "import torch\n",
    "from torch.utils.data import DataLoader, TensorDataset\n",
    "\n",
    "#extends dimensions \n",
    "#train_data = np.expand_dims(train_data,axis=0)\n",
    "#valid_data = np.expand_dims(valid_data,axis=0)\n",
    "#test_data = np.expand_dims(test_data,axis=0)\n",
    "\n",
    "# create Tensor datasets\n",
    "train_data = TensorDataset(torch.from_numpy(train_x), torch.from_numpy(train_y))\n",
    "valid_data = TensorDataset(torch.from_numpy(valid_x), torch.from_numpy(valid_y))\n",
    "test_data = TensorDataset(torch.from_numpy(test_x), torch.from_numpy(test_y))\n",
    "\n",
    "\n",
    "# dataloaders\n",
    "batch_size = 50\n",
    "\n",
    "# make sure to SHUFFLE your data\n",
    "train_loader = DataLoader(train_data, shuffle=True, batch_size=batch_size,drop_last=True)\n",
    "valid_loader = DataLoader(valid_data, shuffle=True, batch_size=batch_size, drop_last=True)\n",
    "test_loader = DataLoader(test_data, shuffle=True, batch_size=batch_size,drop_last=True)\n",
    "\n",
    "\n",
    "# obtain one batch of training data\n",
    "dataiter = iter(train_loader)\n",
    "sample_x, sample_y = dataiter.next()\n",
    "print('Sample input size: ', sample_x.size()) # batch_size, seq_length\n",
    "print('Sample input: \\n', sample_x)\n",
    "print()\n",
    "print('Sample label size: ', sample_y.size()) # batch_size\n",
    "print('Sample label: \\n', sample_y)"
   ]
  },
  {
   "cell_type": "code",
   "execution_count": 39,
   "metadata": {},
   "outputs": [],
   "source": [
    "import torch.nn as nn\n",
    "\n",
    "class SentimentLSTM(nn.Module):\n",
    "    \"\"\"\n",
    "    The RNN model that will be used to perform Sentiment analysis.\n",
    "    \"\"\"\n",
    "\n",
    "    def __init__(self, vocab_size, output_size, embedding_dim, hidden_dim, n_layers, drop_prob=0.5):\n",
    "        \"\"\"\n",
    "        Initialize the model by setting up the layers.\n",
    "        \"\"\"\n",
    "        super().__init__()\n",
    "\n",
    "        self.output_size = output_size\n",
    "        self.n_layers = n_layers\n",
    "        self.hidden_dim = hidden_dim\n",
    "        \n",
    "        # embedding and LSTM layers\n",
    "        self.embedding = nn.Embedding(vocab_size, embedding_dim)\n",
    "        self.lstm = nn.LSTM(embedding_dim, hidden_dim, n_layers, \n",
    "                            dropout=drop_prob, batch_first=True)\n",
    "        \n",
    "        # dropout layer\n",
    "        self.dropout = nn.Dropout(0.3)\n",
    "        \n",
    "        # linear and sigmoid layers\n",
    "        self.fc = nn.Linear(hidden_dim, output_size)\n",
    "        self.sig = nn.Sigmoid()\n",
    "        \n",
    "\n",
    "    def forward(self, x, hidden):\n",
    "        \"\"\"\n",
    "        Perform a forward pass of our model on some input and hidden state.\n",
    "        \"\"\"\n",
    "        batch_size = x.size(0)\n",
    "\n",
    "        # embeddings and lstm_out\n",
    "        embeds = self.embedding(x)\n",
    "        lstm_out, hidden = self.lstm(embeds, hidden)\n",
    "    \n",
    "        # stack up lstm outputs\n",
    "        lstm_out = lstm_out.contiguous().view(-1, self.hidden_dim)\n",
    "        \n",
    "        # dropout and fully-connected layer\n",
    "        out = self.dropout(lstm_out)\n",
    "        out = self.fc(out)\n",
    "        # sigmoid function\n",
    "        sig_out = self.sig(out)\n",
    "        \n",
    "        # reshape to be batch_size first\n",
    "        sig_out = sig_out.view(batch_size, -1)\n",
    "        sig_out = sig_out[:, -1] # get last batch of labels\n",
    "        \n",
    "        # return last sigmoid output and hidden state\n",
    "        return sig_out, hidden\n",
    "    \n",
    "    \n",
    "    def init_hidden(self, batch_size):\n",
    "        ''' Initializes hidden state '''\n",
    "        # Create two new tensors with sizes n_layers x batch_size x hidden_dim,\n",
    "        # initialized to zero, for hidden state and cell state of LSTM\n",
    "        weight = next(self.parameters()).data\n",
    "        \n",
    "        if (train_on_gpu):\n",
    "            hidden = (weight.new(self.n_layers, batch_size, self.hidden_dim).zero_().cuda(),\n",
    "                  weight.new(self.n_layers, batch_size, self.hidden_dim).zero_().cuda())\n",
    "        else:\n",
    "            hidden = (weight.new(self.n_layers, batch_size, self.hidden_dim).zero_(),\n",
    "                      weight.new(self.n_layers, batch_size, self.hidden_dim).zero_())\n",
    "        \n",
    "        return hidden\n",
    "        "
   ]
  },
  {
   "cell_type": "code",
   "execution_count": 40,
   "metadata": {},
   "outputs": [
    {
     "name": "stdout",
     "output_type": "stream",
     "text": [
      "SentimentLSTM(\n",
      "  (embedding): Embedding(68888, 200)\n",
      "  (lstm): LSTM(200, 256, num_layers=3, batch_first=True, dropout=0.5)\n",
      "  (dropout): Dropout(p=0.3, inplace=False)\n",
      "  (fc): Linear(in_features=256, out_features=1, bias=True)\n",
      "  (sig): Sigmoid()\n",
      ")\n"
     ]
    }
   ],
   "source": [
    "# Instantiate the model w/ hyperparams\n",
    "vocab_size = len(vocab_to_int)+1 # +1 for the 0 padding\n",
    "output_size = 1\n",
    "embedding_dim = 200\n",
    "hidden_dim = 256\n",
    "n_layers = 3\n",
    "\n",
    "net = SentimentLSTM(vocab_size, output_size, embedding_dim, hidden_dim, n_layers)\n",
    "\n",
    "print(net)\n"
   ]
  },
  {
   "cell_type": "code",
   "execution_count": 41,
   "metadata": {},
   "outputs": [
    {
     "name": "stdout",
     "output_type": "stream",
     "text": [
      "Training on GPU.\n"
     ]
    }
   ],
   "source": [
    "train_on_gpu=torch.cuda.is_available()\n",
    "\n",
    "if(train_on_gpu):\n",
    "    print('Training on GPU.')\n",
    "else:\n",
    "    print('No GPU available, training on CPU.')"
   ]
  },
  {
   "cell_type": "code",
   "execution_count": 42,
   "metadata": {},
   "outputs": [
    {
     "name": "stdout",
     "output_type": "stream",
     "text": [
      "Epoch: 1/5... Step: 100... Loss: 0.318234... Val Loss: 0.111605\n",
      "Epoch: 1/5... Step: 200... Loss: 0.154324... Val Loss: 0.096183\n",
      "Epoch: 1/5... Step: 300... Loss: 0.132048... Val Loss: 0.087603\n",
      "Epoch: 1/5... Step: 400... Loss: 0.040072... Val Loss: 0.092813\n",
      "Epoch: 1/5... Step: 500... Loss: 0.037403... Val Loss: 0.086540\n",
      "Epoch: 2/5... Step: 600... Loss: 0.076495... Val Loss: 0.080431\n",
      "Epoch: 2/5... Step: 700... Loss: 0.015116... Val Loss: 0.094441\n",
      "Epoch: 2/5... Step: 800... Loss: 0.028375... Val Loss: 0.079732\n",
      "Epoch: 2/5... Step: 900... Loss: 0.067484... Val Loss: 0.089470\n",
      "Epoch: 2/5... Step: 1000... Loss: 0.074311... Val Loss: 0.081677\n",
      "Epoch: 3/5... Step: 1100... Loss: 0.026583... Val Loss: 0.124457\n",
      "Epoch: 3/5... Step: 1200... Loss: 0.027192... Val Loss: 0.105301\n",
      "Epoch: 3/5... Step: 1300... Loss: 0.030637... Val Loss: 0.098996\n",
      "Epoch: 3/5... Step: 1400... Loss: 0.029730... Val Loss: 0.104819\n",
      "Epoch: 3/5... Step: 1500... Loss: 0.078280... Val Loss: 0.085813\n",
      "Epoch: 4/5... Step: 1600... Loss: 0.018626... Val Loss: 0.196910\n",
      "Epoch: 4/5... Step: 1700... Loss: 0.055507... Val Loss: 0.109001\n",
      "Epoch: 4/5... Step: 1800... Loss: 0.078976... Val Loss: 0.098244\n",
      "Epoch: 4/5... Step: 1900... Loss: 0.070757... Val Loss: 0.113850\n",
      "Epoch: 4/5... Step: 2000... Loss: 0.040263... Val Loss: 0.093894\n",
      "Epoch: 4/5... Step: 2100... Loss: 0.054370... Val Loss: 0.108536\n",
      "Epoch: 5/5... Step: 2200... Loss: 0.008711... Val Loss: 0.121938\n",
      "Epoch: 5/5... Step: 2300... Loss: 0.004303... Val Loss: 0.130680\n",
      "Epoch: 5/5... Step: 2400... Loss: 0.078185... Val Loss: 0.102912\n",
      "Epoch: 5/5... Step: 2500... Loss: 0.136209... Val Loss: 0.101963\n",
      "Epoch: 5/5... Step: 2600... Loss: 0.144511... Val Loss: 0.105901\n"
     ]
    }
   ],
   "source": [
    "# loss and optimization functions\n",
    "lr=0.01\n",
    "\n",
    "criterion = nn.BCELoss()\n",
    "optimizer = torch.optim.Adam(net.parameters(), lr=lr)\n",
    "\n",
    "\n",
    "# training params\n",
    "\n",
    "epochs = 5 # 3-4 is approx where I noticed the validation loss stop decreasing\n",
    "\n",
    "counter = 0\n",
    "print_every = 100\n",
    "clip=6 # gradient clipping\n",
    "\n",
    "# move model to GPU, if available\n",
    "if(train_on_gpu):\n",
    "    net.cuda()\n",
    "\n",
    "net.train()\n",
    "# train for some number of epochs\n",
    "for e in range(epochs):\n",
    "    # initialize hidden state\n",
    "    h = net.init_hidden(batch_size)\n",
    "\n",
    "    # batch loop\n",
    "    for inputs, labels in train_loader:\n",
    "        counter += 1\n",
    "\n",
    "        if(train_on_gpu):\n",
    "            inputs, labels = inputs.cuda(), labels.cuda()\n",
    "\n",
    "        # Creating new variables for the hidden state, otherwise\n",
    "        # we'd backprop through the entire training history\n",
    "        h = tuple([each.data for each in h])\n",
    "\n",
    "        # zero accumulated gradients\n",
    "        net.zero_grad()\n",
    "\n",
    "        # get the output from the model\n",
    "            \n",
    "        output, h = net(inputs, h)\n",
    "\n",
    "        # calculate the loss and perform backprop\n",
    "        loss = criterion(output.squeeze(), labels.float())\n",
    "        loss.backward()\n",
    "        # `clip_grad_norm` helps prevent the exploding gradient problem in RNNs / LSTMs.\n",
    "        nn.utils.clip_grad_norm_(net.parameters(), clip)\n",
    "        optimizer.step()\n",
    "\n",
    "        # loss stats\n",
    "        if counter % print_every == 0:\n",
    "            # Get validation loss\n",
    "            val_h = net.init_hidden(batch_size)\n",
    "            val_losses = []\n",
    "            net.eval()\n",
    "            for inputs, labels in valid_loader:\n",
    "\n",
    "                # Creating new variables for the hidden state, otherwise\n",
    "                # we'd backprop through the entire training history\n",
    "                val_h = tuple([each.data for each in val_h])\n",
    "\n",
    "                if(train_on_gpu):\n",
    "                    inputs, labels = inputs.cuda(), labels.cuda()\n",
    "\n",
    "                #inputs = inputs.type(torch.LongTensor)\n",
    "                output, val_h = net(inputs, val_h)\n",
    "                val_loss = criterion(output.squeeze(), labels.float())\n",
    "\n",
    "                val_losses.append(val_loss.item())\n",
    "\n",
    "            net.train()\n",
    "            print(\"Epoch: {}/{}...\".format(e+1, epochs),\n",
    "                  \"Step: {}...\".format(counter),\n",
    "                  \"Loss: {:.6f}...\".format(loss.item()),\n",
    "                  \"Val Loss: {:.6f}\".format(np.mean(val_losses)))"
   ]
  },
  {
   "cell_type": "code",
   "execution_count": 43,
   "metadata": {},
   "outputs": [
    {
     "name": "stdout",
     "output_type": "stream",
     "text": [
      "Test loss: 0.122\n",
      "Test accuracy: 0.954\n"
     ]
    }
   ],
   "source": [
    "# Get test data loss and accuracy\n",
    "\n",
    "test_losses = [] # track loss\n",
    "num_correct = 0\n",
    "\n",
    "# init hidden state\n",
    "h = net.init_hidden(batch_size)\n",
    "\n",
    "net.eval()\n",
    "# iterate over test data\n",
    "for inputs, labels in test_loader:\n",
    "\n",
    "    # Creating new variables for the hidden state, otherwise\n",
    "    # we'd backprop through the entire training history\n",
    "    h = tuple([each.data for each in h])\n",
    "\n",
    "    if(train_on_gpu):\n",
    "        inputs, labels = inputs.cuda(), labels.cuda()\n",
    "    \n",
    "    # get predicted outputs\n",
    "    output, h = net(inputs, h)\n",
    "    \n",
    "    # calculate loss\n",
    "    test_loss = criterion(output.squeeze(), labels.float())\n",
    "    test_losses.append(test_loss.item())\n",
    "    \n",
    "    # convert output probabilities to predicted class (0 or 1)\n",
    "    pred = torch.round(output.squeeze())  # rounds to the nearest integer\n",
    "    #print(type(output))\n",
    "    \n",
    "    # compare predictions to true label\n",
    "    correct_tensor = pred.eq(labels.float().view_as(pred))\n",
    "    correct = np.squeeze(correct_tensor.numpy()) if not train_on_gpu else np.squeeze(correct_tensor.cpu().numpy())\n",
    "    num_correct += np.sum(correct)\n",
    "\n",
    "\n",
    "# -- stats! -- ##\n",
    "# avg test loss\n",
    "print(\"Test loss: {:.3f}\".format(np.mean(test_losses)))\n",
    "\n",
    "# accuracy over all test data\n",
    "test_acc = num_correct/len(test_loader.dataset)\n",
    "print(\"Test accuracy: {:.3f}\".format(test_acc))"
   ]
  },
  {
   "cell_type": "code",
   "execution_count": 44,
   "metadata": {},
   "outputs": [],
   "source": [
    "ponctuation = \"!\\\"#$%&'()*+-./:;<=>?@[\\]^_`{|}~’\"\n",
    "\n",
    "def preprocess(tweet, vocab_to_int):\n",
    "    tweet = tweet.lower()\n",
    "    \n",
    "    #enlever ponctuation\n",
    "    tweet = ''.join([c for c in tweet if c not in punctuation])\n",
    "    \n",
    "    #enlever les liens\n",
    "    indice = tweet.find(\"http\")\n",
    "    if indice != -1:\n",
    "        tweet = tweet[:indice]    \n",
    "\n",
    "    #remove stopwords\n",
    "    x = tweet.split()\n",
    "    text_final = \"\"\n",
    "    \n",
    "    for word in x:\n",
    "        if word not in stopwords.words('french'):\n",
    "            text_final = text_final+\" \"+word\n",
    "         \n",
    "    tweet = text_final \n",
    "    \n",
    "    #lemmatisation\n",
    "    doc = nlp(tweet)\n",
    "    text_final = \"\"\n",
    "    for token in doc:\n",
    "        text_final = text_final+\" \"+token.lemma_\n",
    "        \n",
    "    tweet = text_final.strip() \n",
    "\n",
    "    word_list = tweet.split()\n",
    "    num_list = []\n",
    "    #list of reviews\n",
    "    #though it contains only one review as of now\n",
    "    tweets_int = []\n",
    "    for word in word_list:\n",
    "        if word in vocab_to_int.keys():\n",
    "            num_list.append(vocab_to_int[word])\n",
    "    tweets_int.append(num_list)\n",
    "    return tweets_int"
   ]
  },
  {
   "cell_type": "code",
   "execution_count": 45,
   "metadata": {},
   "outputs": [],
   "source": [
    "def predict(net, test_tweet, sequence_length=30):\n",
    "    ''' Prints out whether a give review is predicted to be \n",
    "        positive or negative in sentiment, using a trained model.\n",
    "        \n",
    "        params:\n",
    "        net - A trained net \n",
    "        test_review - a review made of normal text and punctuation\n",
    "        sequence_length - the padded length of a review\n",
    "        '''\n",
    "\n",
    "    #change the reviews to sequence of integers\n",
    "    int_rev = preprocess(test_tweet, vocab_to_int)\n",
    "    #pad the reviews as per the sequence length of the feature\n",
    "    features = pad_features(int_rev, seq_length=seq_length)\n",
    "    \n",
    "    #changing the features to PyTorch tensor\n",
    "    features = torch.from_numpy(features)\n",
    "    \n",
    "    #pass the features to the model to get prediction\n",
    "    net.eval()\n",
    "    val_h = net.init_hidden(1)\n",
    "    val_h = tuple([each.data for each in val_h])\n",
    "\n",
    "    if(train_on_gpu):\n",
    "        features = features.cuda()\n",
    "\n",
    "    output, val_h = net(features, val_h)\n",
    "    \n",
    "    #rounding the output to nearest 0 or 1\n",
    "    #pred = torch.round(output)\n",
    "    \n",
    "    #mapping the numeric values to postive or negative\n",
    "    #output = [\"Positive\" if pred.item() == 0 else \"Negative\"]\n",
    "    \n",
    "    # print custom response based on whether test_review is pos/neg\n",
    "    return output.item()"
   ]
  },
  {
   "cell_type": "code",
   "execution_count": 47,
   "metadata": {},
   "outputs": [
    {
     "name": "stdout",
     "output_type": "stream",
     "text": [
      "Bonjour, je suis heureux aujourd'hui : 0.0007397727458737791\n",
      "Merci beaucoup pour votre soutient c'est tres gentil : 0.1904749572277069\n",
      "\n",
      "Les violeurs comme toi merite d'aller en taule fils de pute : 0.9991791844367981\n",
      "T'etonne pas si on t'attend a la sortie du college : 0.09213431924581528\n",
      "\n",
      "c'est le seul Raoul en qui j'ai confiance : 0.7078825235366821\n"
     ]
    }
   ],
   "source": [
    "seq_length=15\n",
    "my_tweet_neutre = \"Bonjour, je suis heureux aujourd'hui\"\n",
    "my_tweet_neutre2 = \"Merci beaucoup pour votre soutient c'est tres gentil\"\n",
    "\n",
    "my_tweet_mauvais = \"Les violeurs comme toi merite d'aller en taule fils de pute\"\n",
    "my_tweet_mauvais2 = \"T'etonne pas si on t'attend a la sortie du college\"\n",
    "\n",
    "my_tweet_test = \"c'est le seul Raoul en qui j'ai confiance\"\n",
    "\n",
    "print(my_tweet_neutre + \" : \" + str(predict(net, my_tweet_neutre, seq_length)))\n",
    "print(my_tweet_neutre2 + \" : \" + str(predict(net, my_tweet_neutre2, seq_length)))\n",
    "print()\n",
    "print(my_tweet_mauvais + \" : \" + str(predict(net, my_tweet_mauvais, seq_length)))\n",
    "print(my_tweet_mauvais2 + \" : \" + str(predict(net, my_tweet_mauvais2, seq_length)))\n",
    "print()\n",
    "print(my_tweet_test + \" : \" + str(predict(net, my_tweet_test, seq_length)))"
   ]
  },
  {
   "cell_type": "code",
   "execution_count": 49,
   "metadata": {
    "scrolled": true
   },
   "outputs": [],
   "source": [
    "def saveModel(net, name):\n",
    "    torch.save(net.state_dict(), name+'.pth')"
   ]
  },
  {
   "cell_type": "code",
   "execution_count": 28,
   "metadata": {},
   "outputs": [],
   "source": [
    "def loadModel(name):\n",
    "    vocab_size = 30916 # +1 for the 0 padding\n",
    "    output_size = 1\n",
    "    embedding_dim = 200\n",
    "    hidden_dim = 256\n",
    "    n_layers = 2\n",
    "    model = SentimentLSTM(vocab_size, output_size, embedding_dim, hidden_dim, n_layers)\n",
    "    model.load_state_dict(torch.load(name+'.pth'))\n",
    "    model.eval()\n",
    "\n",
    "    if(train_on_gpu):\n",
    "        model.cuda()\n",
    "    \n",
    "    return model"
   ]
  },
  {
   "cell_type": "code",
   "execution_count": 232,
   "metadata": {},
   "outputs": [],
   "source": [
    "saveModel(net, 'model_70k_3c_50b_5e_len15')"
   ]
  },
  {
   "cell_type": "code",
   "execution_count": 57,
   "metadata": {},
   "outputs": [],
   "source": [
    "loadModel('model2')"
   ]
  },
  {
   "cell_type": "code",
   "execution_count": null,
   "metadata": {},
   "outputs": [],
   "source": []
  },
  {
   "cell_type": "code",
   "execution_count": 39,
   "metadata": {},
   "outputs": [],
   "source": []
  },
  {
   "cell_type": "code",
   "execution_count": 233,
   "metadata": {},
   "outputs": [],
   "source": [
    "import codecs\n",
    "import json\n",
    "\n",
    "with codecs.open('vocab_to_int-70k_3c_50b_5e_len15.json', 'w', encoding='utf-8') as f:\n",
    "    json.dump(vocab_to_int, f, ensure_ascii=False)"
   ]
  },
  {
   "cell_type": "code",
   "execution_count": 45,
   "metadata": {},
   "outputs": [
    {
     "data": {
      "text/plain": [
       "dict"
      ]
     },
     "execution_count": 45,
     "metadata": {},
     "output_type": "execute_result"
    }
   ],
   "source": [
    "with open('vocab_to_int.json') as f:\n",
    "    data = json.load(f)\n",
    "   \n",
    "type(data)"
   ]
  },
  {
   "cell_type": "code",
   "execution_count": 46,
   "metadata": {},
   "outputs": [
    {
     "data": {
      "text/plain": [
       "list"
      ]
     },
     "execution_count": 46,
     "metadata": {},
     "output_type": "execute_result"
    }
   ],
   "source": [
    "with codecs.open('tweet_int.json', 'w', encoding='utf-8') as f:\n",
    "    json.dump(tweet_int, f, ensure_ascii=False)\n",
    "    \n",
    "with open('tweet_int.json') as f:\n",
    "    data2 = json.load(f)\n",
    "   \n",
    "    "
   ]
  },
  {
   "cell_type": "code",
   "execution_count": null,
   "metadata": {},
   "outputs": [],
   "source": []
  },
  {
   "cell_type": "code",
   "execution_count": null,
   "metadata": {},
   "outputs": [],
   "source": []
  },
  {
   "cell_type": "code",
   "execution_count": null,
   "metadata": {},
   "outputs": [],
   "source": []
  }
 ],
 "metadata": {
  "kernelspec": {
   "display_name": "Python 3",
   "language": "python",
   "name": "python3"
  },
  "language_info": {
   "codemirror_mode": {
    "name": "ipython",
    "version": 3
   },
   "file_extension": ".py",
   "mimetype": "text/x-python",
   "name": "python",
   "nbconvert_exporter": "python",
   "pygments_lexer": "ipython3",
   "version": "3.6.9"
  }
 },
 "nbformat": 4,
 "nbformat_minor": 2
}
